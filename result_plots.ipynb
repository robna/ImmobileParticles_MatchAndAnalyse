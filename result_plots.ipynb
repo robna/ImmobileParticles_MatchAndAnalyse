{
 "cells": [
  {
   "cell_type": "code",
   "execution_count": 1,
   "metadata": {},
   "outputs": [],
   "source": [
    "import pandas as pd\n",
    "import altair as alt\n",
    "from altair_saver import save\n",
    "from pathlib import Path"
   ]
  },
  {
   "cell_type": "code",
   "execution_count": 2,
   "metadata": {},
   "outputs": [],
   "source": [
    "def latest_file(path: Path, pattern: str = \"*\"):\n",
    "    files = path.glob(pattern)\n",
    "    return max(files, key=lambda x: x.stat().st_ctime)"
   ]
  },
  {
   "cell_type": "code",
   "execution_count": 3,
   "metadata": {},
   "outputs": [
    {
     "name": "stdout",
     "output_type": "stream",
     "text": [
      "Wafer file used is:   wafer_results_26-11-20_03-15.csv\n",
      "Particle file used is:   particle_results_26-11-20_03-15.csv\n"
     ]
    }
   ],
   "source": [
    "wafer_path = latest_file(Path('results_csv/'),'wafer_results*.csv')\n",
    "print (f'Wafer file used is:   {wafer_path.name}')\n",
    "wafer_results = pd.read_csv(wafer_path)\n",
    "\n",
    "# OBS: something is wrong with w70 (PMMA, H2O2): huge area_ratio... so drop it for now...\n",
    "wafer_results.drop(wafer_results[wafer_results.wafer == 'w70'].index,inplace=True)\n",
    "\n",
    "particle_path = latest_file(Path('results_csv/'),'particle_results*.csv')\n",
    "print (f'Particle file used is:   {particle_path.name}')\n",
    "particle_results = pd.read_csv(particle_path)\n",
    "\n",
    "wafer_results.replace({'Napoly':'SPT', '2c':'Acrylate', '4c':'Epoxy'}, inplace=True)\n",
    "particle_results.replace({'Napoly':'SPT', '2c':'Acrylate', '4c':'Epoxy'}, inplace=True)\n",
    "\n",
    "particle_results_matched_only = particle_results.dropna()"
   ]
  },
  {
   "cell_type": "code",
   "execution_count": 4,
   "metadata": {},
   "outputs": [],
   "source": [
    "particle_wafer_groups = particle_results_matched_only.groupby('wafer')\n",
    "for _, group_content in particle_wafer_groups:  # cycle through polymer groups\n",
    "    pre_area_sum = group_content.area_x.sum()\n",
    "    wafer_results.loc[(wafer_results.wafer == group_content.wafer.unique()[0]), 'pre_area'] = pre_area_sum\n",
    "    post_area_sum = group_content.area_y.sum()\n",
    "    wafer_results.loc[(wafer_results.wafer == group_content.wafer.unique()[0]), 'post_area'] = post_area_sum\n",
    "    "
   ]
  },
  {
   "cell_type": "code",
   "execution_count": 5,
   "metadata": {},
   "outputs": [],
   "source": [
    "wafer_results.dropna(inplace=True)  # drop any lines were there were no results\n",
    "wafer_results.drop(wafer_results[wafer_results.treatment == 'HCl'].index, inplace=True)  # drop HCl treatment (this was only used for calibration)\n",
    "\n",
    "wafer_results['count_ratios'] = abs(wafer_results.post_count / wafer_results.pre_count - 1) * 100  # Get normalised count ratios for each wafer: counts of particles in pre state divided by counts in post state. Subtract 1 to normalise. Take absolute value to treat particle loss and particle addition as the same. Multiply by 100 to get percent values.\n",
    "wafer_results['area_ratios'] = abs(wafer_results.post_area / wafer_results.pre_area - 1) * 100  # same for area...\n",
    "\n",
    "wafer_polymer_groups = wafer_results.groupby('polymer')  # group by polymers\n",
    "\n",
    "wafer_results_wrangled =pd.DataFrame()  # create empty df to fill in results from loop\n",
    "for _, group_content in wafer_polymer_groups:  # cycle through polymer groups\n",
    "        \n",
    "    group_content['count_error'] = group_content['count_ratios'] - group_content.loc[group_content.treatment == 'water', 'count_ratios'].iloc[0]  # subtract count ratio of water from count ratios of all other treatments to get the percentage point error (meaning loss OR addition) of particle numbers caused by each treatment \n",
    "    group_content['area_error'] = group_content['area_ratios'] - group_content.loc[group_content.treatment == 'water', 'area_ratios'].iloc[0]  # same for area\n",
    "        \n",
    "    group_content.drop(group_content[group_content.treatment == 'water'].index, inplace=True)  # the rows with the water treatments can now be deleted\n",
    "        \n",
    "    # following line is good example how to not get into \"set with copy\" warning. Also several bool conditions could be used like that: df.loc[(df['A'] == 'blue') & (df['B'] == 'red') & (df['C'] == 'square'),'D'] = 'M5' (found here: https://stackoverflow.com/questions/21263020/pandas-update-value-if-condition-in-3-columns-are-met)\n",
    "    group_content.loc[(group_content['count_error'] < 0), 'count_error'] = 0  # set all ratios that were smaller than water ratio (and thus got now negative due to water ratio correction) to 0.\n",
    "    group_content.loc[(group_content['area_error'] < 0), 'area_error'] = 0  # same for are\n",
    "    \n",
    "    wafer_results_wrangled = wafer_results_wrangled.append(group_content)  # save results to df\n"
   ]
  },
  {
   "cell_type": "code",
   "execution_count": 9,
   "metadata": {},
   "outputs": [],
   "source": [
    "# useful for radio buttons: https://stackoverflow.com/questions/59025953/on-an-altair-plot-can-you-change-the-location-that-a-selection-e-g-dropdown\n",
    "# interactive heatmap: https://towardsdatascience.com/altair-plot-deconstruction-visualizing-the-correlation-structure-of-weather-data-38fb5668c5b1\n",
    "# alt.data_transformers.disable_max_rows()  # if MaxRowsError becomes a problem\n",
    "quant_HM_counts = alt.Chart(wafer_results_wrangled).mark_rect().encode(\n",
    "    x=alt.X('treatment:N', axis=alt.Axis(title=None, orient=\"top\", domain=False)),\n",
    "    y=alt.Y('polymer:N', axis=alt.Axis(title=None, orient=\"left\", domain=False)),\n",
    "    color=alt.Color('count_error:Q'),\n",
    "    tooltip = alt.Tooltip('wafer:N')\n",
    ").properties(\n",
    "    title='Particle counts'\n",
    ")\n",
    "\n",
    "\n",
    "\n",
    "quant_HM_areas = alt.Chart(wafer_results_wrangled).mark_rect().encode(\n",
    "    x=alt.X('treatment:N', axis=alt.Axis(title=None, orient=\"top\", domain=False)),\n",
    "    y=alt.Y('polymer:N', axis=alt.Axis(title=None, labels=False, orient=\"right\", domain=False)),\n",
    "    color=alt.Color('area_error:Q', scale=alt.Scale(scheme='lighttealblue'), legend=alt.Legend(title=\"Change [%]\")),\n",
    "    tooltip = alt.Tooltip('wafer:N')\n",
    ").properties(\n",
    "    title='Particle area'\n",
    ")\n",
    "\n",
    "\n",
    "\n",
    "qhm = alt.hconcat(quant_HM_counts, quant_HM_areas).configure_rect(\n",
    "    size=18\n",
    ").configure_title(\n",
    "    orient='bottom',\n",
    "    offset=20\n",
    ").configure_view(\n",
    "    strokeWidth=0  # get rid of chart box\n",
    ").configure_axis(\n",
    "    title=None,\n",
    "    domain=False,  # no axis line\n",
    "    ticks=False\n",
    ").configure_legend(\n",
    "    gradientLength=250,\n",
    "    orient='left',\n",
    "    titlePadding = 20,\n",
    "    gradientLabelOffset=10\n",
    ")\n",
    "\n",
    "save(qhm,'figures/quant_HM.html')\n",
    "\n",
    "#alt.Chart.show(quant_HM)"
   ]
  },
  {
   "cell_type": "code",
   "execution_count": 7,
   "metadata": {},
   "outputs": [
    {
     "data": {
      "application/vnd.jupyter.widget-view+json": {
       "model_id": "4da207517e834715b0feffea905f6b33",
       "version_major": 2,
       "version_minor": 0
      },
      "text/plain": [
       "interactive(children=(Dropdown(description='file', options=('venv', '__pycache__', 'result_plots.ipynb', 'test…"
      ]
     },
     "metadata": {},
     "output_type": "display_data"
    }
   ],
   "source": [
    "import ipywidgets as widgets\n",
    "from ipywidgets import interact, interact_manual\n",
    "import os\n",
    "from IPython.display import Image\n",
    "\n",
    "@interact\n",
    "def show_images(file=os.listdir('.')):\n",
    "    display(Image(file))"
   ]
  },
  {
   "cell_type": "code",
   "execution_count": null,
   "metadata": {},
   "outputs": [],
   "source": []
  }
 ],
 "metadata": {
  "kernelspec": {
   "display_name": "Python 3",
   "language": "python",
   "name": "python3"
  },
  "language_info": {
   "codemirror_mode": {
    "name": "ipython",
    "version": 3
   },
   "file_extension": ".py",
   "mimetype": "text/x-python",
   "name": "python",
   "nbconvert_exporter": "python",
   "pygments_lexer": "ipython3",
   "version": "3.8.6"
  }
 },
 "nbformat": 4,
 "nbformat_minor": 4
}
