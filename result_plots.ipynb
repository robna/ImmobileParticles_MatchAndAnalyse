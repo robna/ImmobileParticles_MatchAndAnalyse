{
 "cells": [
  {
   "cell_type": "code",
   "execution_count": 1,
   "metadata": {},
   "outputs": [],
   "source": [
    "import pandas as pd\n",
    "import altair as alt"
   ]
  },
  {
   "cell_type": "code",
   "execution_count": 2,
   "metadata": {},
   "outputs": [],
   "source": [
    "wafer_results = pd.read_csv('../wafer_results_24-11-20_02-42.csv')\n",
    "particle_results = pd.read_csv('../particle_results_24-11-20_02-42.csv')\n",
    "\n",
    "wafer_results.replace({'Napoly':'SPT', '2c':'Acrylate', '4c':'Epoxy'}, inplace=True)\n",
    "particle_results.replace({'Napoly':'SPT', '2c':'Acrylate', '4c':'Epoxy'}, inplace=True)"
   ]
  },
  {
   "cell_type": "code",
   "execution_count": 3,
   "metadata": {},
   "outputs": [],
   "source": [
    "wafer_results.dropna(inplace=True)  # drop any lines were there were no results\n",
    "wafer_results.drop(wafer_results[wafer_results.treatment == 'HCl'].index, inplace=True)  # drop HCl treatment (this was only used for calibration)\n",
    "\n",
    "wafer_results['count_ratios'] = (wafer_results.post_count / wafer_results.pre_count - 1) * 100  # Get normalised count ratios for each wafer: counts of particles in pre state divided by counts in post state. Subtract 1 to normalise. Take absolute value to treat particle loss and particle addition as the same. Multiply by 100 to get percent values.\n",
    "\n",
    "wafer_polymer_groups = wafer_results.groupby('polymer')  # group by polymers\n",
    "wafer_results_wrangled =pd.DataFrame()  # create empty df to fill in results from loop\n",
    "for _, group_content in wafer_polymer_groups:  # cycle through polymer groups\n",
    "    group_content['count_error'] = group_content['count_ratios'] - group_content.loc[group_content.treatment == 'water', 'count_ratios'].iloc[0]  # subtract count ratio of water from count ratios of all other treatments to get the percentage point error (meaning loss OR addition) of particle numbers caused by each treatment \n",
    "    group_content.drop(group_content[group_content.treatment == 'water'].index, inplace=True)  # the rows with the water treatments can now be deleted\n",
    "    # following line is good example how to not get into \"set with copy\" warning. Also several bool conditions could be used like that: df.loc[(df['A'] == 'blue') & (df['B'] == 'red') & (df['C'] == 'square'),'D'] = 'M5' (found here: https://stackoverflow.com/questions/21263020/pandas-update-value-if-condition-in-3-columns-are-met)\n",
    "    #group_content.loc[(group_content['count_error'] < 0), 'count_error'] = 0  # set all ratios that were smaller than water ratio (and thus got now negative due to water ratio correction) to 0.\n",
    "    wafer_results_wrangled = wafer_results_wrangled.append(group_content)  # save results to df\n"
   ]
  },
  {
   "cell_type": "code",
   "execution_count": 6,
   "metadata": {},
   "outputs": [
    {
     "data": {
      "text/html": [
       "\n",
       "<div id=\"altair-viz-bb1de2e8ecc246198dba2ac2f1ed9695\"></div>\n",
       "<script type=\"text/javascript\">\n",
       "  (function(spec, embedOpt){\n",
       "    let outputDiv = document.currentScript.previousElementSibling;\n",
       "    if (outputDiv.id !== \"altair-viz-bb1de2e8ecc246198dba2ac2f1ed9695\") {\n",
       "      outputDiv = document.getElementById(\"altair-viz-bb1de2e8ecc246198dba2ac2f1ed9695\");\n",
       "    }\n",
       "    const paths = {\n",
       "      \"vega\": \"https://cdn.jsdelivr.net/npm//vega@5?noext\",\n",
       "      \"vega-lib\": \"https://cdn.jsdelivr.net/npm//vega-lib?noext\",\n",
       "      \"vega-lite\": \"https://cdn.jsdelivr.net/npm//vega-lite@4.8.1?noext\",\n",
       "      \"vega-embed\": \"https://cdn.jsdelivr.net/npm//vega-embed@6?noext\",\n",
       "    };\n",
       "\n",
       "    function loadScript(lib) {\n",
       "      return new Promise(function(resolve, reject) {\n",
       "        var s = document.createElement('script');\n",
       "        s.src = paths[lib];\n",
       "        s.async = true;\n",
       "        s.onload = () => resolve(paths[lib]);\n",
       "        s.onerror = () => reject(`Error loading script: ${paths[lib]}`);\n",
       "        document.getElementsByTagName(\"head\")[0].appendChild(s);\n",
       "      });\n",
       "    }\n",
       "\n",
       "    function showError(err) {\n",
       "      outputDiv.innerHTML = `<div class=\"error\" style=\"color:red;\">${err}</div>`;\n",
       "      throw err;\n",
       "    }\n",
       "\n",
       "    function displayChart(vegaEmbed) {\n",
       "      vegaEmbed(outputDiv, spec, embedOpt)\n",
       "        .catch(err => showError(`Javascript Error: ${err.message}<br>This usually means there's a typo in your chart specification. See the javascript console for the full traceback.`));\n",
       "    }\n",
       "\n",
       "    if(typeof define === \"function\" && define.amd) {\n",
       "      requirejs.config({paths});\n",
       "      require([\"vega-embed\"], displayChart, err => showError(`Error loading script: ${err.message}`));\n",
       "    } else if (typeof vegaEmbed === \"function\") {\n",
       "      displayChart(vegaEmbed);\n",
       "    } else {\n",
       "      loadScript(\"vega\")\n",
       "        .then(() => loadScript(\"vega-lite\"))\n",
       "        .then(() => loadScript(\"vega-embed\"))\n",
       "        .catch(showError)\n",
       "        .then(() => displayChart(vegaEmbed));\n",
       "    }\n",
       "  })({\"config\": {\"view\": {\"continuousWidth\": 400, \"continuousHeight\": 300}}, \"data\": {\"name\": \"data-0de6f7c3bb37a2279c668e4d61fb61c1\"}, \"mark\": \"rect\", \"encoding\": {\"color\": {\"type\": \"quantitative\", \"field\": \"count_error\"}, \"x\": {\"type\": \"nominal\", \"field\": \"treatment\"}, \"y\": {\"type\": \"nominal\", \"field\": \"polymer\"}}, \"$schema\": \"https://vega.github.io/schema/vega-lite/v4.8.1.json\", \"datasets\": {\"data-0de6f7c3bb37a2279c668e4d61fb61c1\": [{\"wafer\": \"w64\", \"polymer\": \"ABS\", \"treatment\": \"H2O2\", \"pre_count\": 38.0, \"post_count\": 35.0, \"matched_count\": 22.0, \"process_time\": 0.9, \"count_ratios\": -7.8947368421052655, \"count_error\": 13.07300509337861}, {\"wafer\": \"w65\", \"polymer\": \"ABS\", \"treatment\": \"KOH\", \"pre_count\": 33.0, \"post_count\": 5.0, \"matched_count\": 4.0, \"process_time\": 0.8, \"count_ratios\": -84.84848484848484, \"count_error\": -63.88074291300097}, {\"wafer\": \"w66\", \"polymer\": \"ABS\", \"treatment\": \"SPT\", \"pre_count\": 74.0, \"post_count\": 45.0, \"matched_count\": 23.0, \"process_time\": 2.3, \"count_ratios\": -39.189189189189186, \"count_error\": -18.22144725370531}, {\"wafer\": \"w67\", \"polymer\": \"ABS\", \"treatment\": \"pentane\", \"pre_count\": 120.0, \"post_count\": 113.0, \"matched_count\": 91.0, \"process_time\": 12.7, \"count_ratios\": -5.833333333333335, \"count_error\": 15.13440860215054}, {\"wafer\": \"w85\", \"polymer\": \"Acrylate\", \"treatment\": \"H2O2\", \"pre_count\": 50.0, \"post_count\": 52.0, \"matched_count\": 47.0, \"process_time\": 2.1, \"count_ratios\": 4.0000000000000036, \"count_error\": 6.000000000000005}, {\"wafer\": \"w84\", \"polymer\": \"Acrylate\", \"treatment\": \"KOH\", \"pre_count\": 43.0, \"post_count\": 36.0, \"matched_count\": 35.0, \"process_time\": 3.1, \"count_ratios\": -16.279069767441857, \"count_error\": -14.279069767441856}, {\"wafer\": \"w83\", \"polymer\": \"Acrylate\", \"treatment\": \"SPT\", \"pre_count\": 105.0, \"post_count\": 124.0, \"matched_count\": 100.0, \"process_time\": 3.3, \"count_ratios\": 18.0952380952381, \"count_error\": 20.095238095238102}, {\"wafer\": \"w86\", \"polymer\": \"Acrylate\", \"treatment\": \"pentane\", \"pre_count\": 98.0, \"post_count\": 114.0, \"matched_count\": 92.0, \"process_time\": 4.1, \"count_ratios\": 16.326530612244895, \"count_error\": 18.326530612244895}, {\"wafer\": \"w79\", \"polymer\": \"EVA\", \"treatment\": \"H2O2\", \"pre_count\": 72.0, \"post_count\": 67.0, \"matched_count\": 60.0, \"process_time\": 4.4, \"count_ratios\": -6.944444444444442, \"count_error\": -23.611111111111118}, {\"wafer\": \"w78\", \"polymer\": \"EVA\", \"treatment\": \"KOH\", \"pre_count\": 79.0, \"post_count\": 79.0, \"matched_count\": 56.0, \"process_time\": 4.7, \"count_ratios\": 0.0, \"count_error\": -16.666666666666675}, {\"wafer\": \"w77\", \"polymer\": \"EVA\", \"treatment\": \"SPT\", \"pre_count\": 55.0, \"post_count\": 48.0, \"matched_count\": 38.0, \"process_time\": 3.9, \"count_ratios\": -12.727272727272732, \"count_error\": -29.393939393939405}, {\"wafer\": \"w80\", \"polymer\": \"EVA\", \"treatment\": \"pentane\", \"pre_count\": 32.0, \"post_count\": 35.0, \"matched_count\": 30.0, \"process_time\": 3.4, \"count_ratios\": 9.375, \"count_error\": -7.291666666666675}, {\"wafer\": \"w91\", \"polymer\": \"Epoxy\", \"treatment\": \"H2O2\", \"pre_count\": 213.0, \"post_count\": 142.0, \"matched_count\": 105.0, \"process_time\": 8.6, \"count_ratios\": -33.333333333333336, \"count_error\": -2.9962546816479474}, {\"wafer\": \"w90\", \"polymer\": \"Epoxy\", \"treatment\": \"KOH\", \"pre_count\": 239.0, \"post_count\": 216.0, \"matched_count\": 212.0, \"process_time\": 7.0, \"count_ratios\": -9.623430962343093, \"count_error\": 20.713647689342295}, {\"wafer\": \"w89\", \"polymer\": \"Epoxy\", \"treatment\": \"SPT\", \"pre_count\": 69.0, \"post_count\": 62.0, \"matched_count\": 58.0, \"process_time\": 0.8, \"count_ratios\": -10.144927536231885, \"count_error\": 20.192151115453505}, {\"wafer\": \"w92\", \"polymer\": \"Epoxy\", \"treatment\": \"pentane\", \"pre_count\": 351.0, \"post_count\": 302.0, \"matched_count\": 246.0, \"process_time\": 9.0, \"count_ratios\": -13.960113960113961, \"count_error\": 16.376964691571427}, {\"wafer\": \"w13\", \"polymer\": \"LDPE\", \"treatment\": \"H2O2\", \"pre_count\": 268.0, \"post_count\": 221.0, \"matched_count\": 160.0, \"process_time\": 9.5, \"count_ratios\": -17.537313432835823, \"count_error\": -19.56434045986284}, {\"wafer\": \"w02b\", \"polymer\": \"LDPE\", \"treatment\": \"KOH\", \"pre_count\": 180.0, \"post_count\": 183.0, \"matched_count\": 131.0, \"process_time\": 12.6, \"count_ratios\": 1.6666666666666607, \"count_error\": -0.3603603603603567}, {\"wafer\": \"w04\", \"polymer\": \"LDPE\", \"treatment\": \"SPT\", \"pre_count\": 154.0, \"post_count\": 163.0, \"matched_count\": 118.0, \"process_time\": 13.3, \"count_ratios\": 5.844155844155852, \"count_error\": 3.8171288171288342}, {\"wafer\": \"w18\", \"polymer\": \"LDPE\", \"treatment\": \"pentane\", \"pre_count\": 417.0, \"post_count\": 424.0, \"matched_count\": 340.0, \"process_time\": 35.1, \"count_ratios\": 1.6786570743405171, \"count_error\": -0.3483699526865003}, {\"wafer\": \"w24\", \"polymer\": \"PA6\", \"treatment\": \"H2O2\", \"pre_count\": 202.0, \"post_count\": 251.0, \"matched_count\": 152.0, \"process_time\": 3.9, \"count_ratios\": 24.257425742574256, \"count_error\": 25.91031830455772}, {\"wafer\": \"w19\", \"polymer\": \"PA6\", \"treatment\": \"KOH\", \"pre_count\": 128.0, \"post_count\": 190.0, \"matched_count\": 113.0, \"process_time\": 3.4, \"count_ratios\": 48.4375, \"count_error\": 50.090392561983464}, {\"wafer\": \"w25\", \"polymer\": \"PA6\", \"treatment\": \"SPT\", \"pre_count\": 98.0, \"post_count\": 103.0, \"matched_count\": 91.0, \"process_time\": 2.7, \"count_ratios\": 5.102040816326525, \"count_error\": 6.754933378309991}, {\"wafer\": \"w23\", \"polymer\": \"PA6\", \"treatment\": \"pentane\", \"pre_count\": 366.0, \"post_count\": 387.0, \"matched_count\": 311.0, \"process_time\": 25.8, \"count_ratios\": 5.737704918032782, \"count_error\": 7.390597480016248}, {\"wafer\": \"w52\", \"polymer\": \"PC\", \"treatment\": \"H2O2\", \"pre_count\": 26.0, \"post_count\": 24.0, \"matched_count\": 11.0, \"process_time\": 0.4, \"count_ratios\": -7.692307692307687, \"count_error\": -2.582818641212792}, {\"wafer\": \"w54\", \"polymer\": \"PC\", \"treatment\": \"KOH\", \"pre_count\": 22.0, \"post_count\": 28.0, \"matched_count\": 18.0, \"process_time\": 0.4, \"count_ratios\": 27.27272727272727, \"count_error\": 32.38221632382216}, {\"wafer\": \"w53\", \"polymer\": \"PC\", \"treatment\": \"SPT\", \"pre_count\": 25.0, \"post_count\": 30.0, \"matched_count\": 15.0, \"process_time\": 0.5, \"count_ratios\": 19.999999999999996, \"count_error\": 25.10948905109489}, {\"wafer\": \"w55\", \"polymer\": \"PC\", \"treatment\": \"pentane\", \"pre_count\": 91.0, \"post_count\": 86.0, \"matched_count\": 56.0, \"process_time\": 5.7, \"count_ratios\": -5.494505494505497, \"count_error\": -0.3850164434106018}, {\"wafer\": \"w17\", \"polymer\": \"PET\", \"treatment\": \"H2O2\", \"pre_count\": 239.0, \"post_count\": 232.0, \"matched_count\": 184.0, \"process_time\": 15.8, \"count_ratios\": -2.9288702928870314, \"count_error\": -12.738134598064134}, {\"wafer\": \"w05\", \"polymer\": \"PET\", \"treatment\": \"KOH\", \"pre_count\": 253.0, \"post_count\": 215.0, \"matched_count\": 136.0, \"process_time\": 11.0, \"count_ratios\": -15.019762845849804, \"count_error\": -24.829027151026906}, {\"wafer\": \"w16\", \"polymer\": \"PET\", \"treatment\": \"SPT\", \"pre_count\": 220.0, \"post_count\": 262.0, \"matched_count\": 202.0, \"process_time\": 7.5, \"count_ratios\": 19.090909090909093, \"count_error\": 9.281644785731991}, {\"wafer\": \"w15\", \"polymer\": \"PET\", \"treatment\": \"pentane\", \"pre_count\": 416.0, \"post_count\": 417.0, \"matched_count\": 369.0, \"process_time\": 24.8, \"count_ratios\": 0.24038461538462563, \"count_error\": -9.568879689792476}, {\"wafer\": \"w70\", \"polymer\": \"PMMA\", \"treatment\": \"H2O2\", \"pre_count\": 12.0, \"post_count\": 21.0, \"matched_count\": 2.0, \"process_time\": 33.9, \"count_ratios\": 75.0, \"count_error\": 91.66666666666666}, {\"wafer\": \"w72\", \"polymer\": \"PMMA\", \"treatment\": \"KOH\", \"pre_count\": 96.0, \"post_count\": 259.0, \"matched_count\": 37.0, \"process_time\": 20.5, \"count_ratios\": 169.79166666666666, \"count_error\": 186.45833333333331}, {\"wafer\": \"w71\", \"polymer\": \"PMMA\", \"treatment\": \"SPT\", \"pre_count\": 150.0, \"post_count\": 190.0, \"matched_count\": 84.0, \"process_time\": 14.8, \"count_ratios\": 26.66666666666666, \"count_error\": 43.33333333333333}, {\"wafer\": \"w73\", \"polymer\": \"PMMA\", \"treatment\": \"pentane\", \"pre_count\": 170.0, \"post_count\": 178.0, \"matched_count\": 56.0, \"process_time\": 14.7, \"count_ratios\": 4.705882352941182, \"count_error\": 21.372549019607845}, {\"wafer\": \"w47\", \"polymer\": \"PP\", \"treatment\": \"H2O2\", \"pre_count\": 43.0, \"post_count\": 40.0, \"matched_count\": 20.0, \"process_time\": 0.5, \"count_ratios\": -6.976744186046513, \"count_error\": -0.41936713686618887}, {\"wafer\": \"w45\", \"polymer\": \"PP\", \"treatment\": \"KOH\", \"pre_count\": 315.0, \"post_count\": 148.0, \"matched_count\": 89.0, \"process_time\": 4.3, \"count_ratios\": -53.01587301587302, \"count_error\": -46.458495966692695}, {\"wafer\": \"w48\", \"polymer\": \"PP\", \"treatment\": \"SPT\", \"pre_count\": 37.0, \"post_count\": 29.0, \"matched_count\": 25.0, \"process_time\": 0.9, \"count_ratios\": -21.62162162162162, \"count_error\": -15.064244572441297}, {\"wafer\": \"w50\", \"polymer\": \"PP\", \"treatment\": \"pentane\", \"pre_count\": 67.0, \"post_count\": 65.0, \"matched_count\": 52.0, \"process_time\": 2.3, \"count_ratios\": -2.985074626865669, \"count_error\": 3.5723024223146553}, {\"wafer\": \"w97\", \"polymer\": \"PS\", \"treatment\": \"H2O2\", \"pre_count\": 633.0, \"post_count\": 933.0, \"matched_count\": 354.0, \"process_time\": 36.4, \"count_ratios\": 47.39336492890995, \"count_error\": 109.15807081126289}, {\"wafer\": \"w34\", \"polymer\": \"PS\", \"treatment\": \"KOH\", \"pre_count\": 16.0, \"post_count\": 20.0, \"matched_count\": 9.0, \"process_time\": 0.5, \"count_ratios\": 25.0, \"count_error\": 86.76470588235294}, {\"wafer\": \"w32\", \"polymer\": \"PS\", \"treatment\": \"SPT\", \"pre_count\": 67.0, \"post_count\": 69.0, \"matched_count\": 46.0, \"process_time\": 2.1, \"count_ratios\": 2.9850746268656803, \"count_error\": 64.74978050921862}, {\"wafer\": \"w96\", \"polymer\": \"PS\", \"treatment\": \"pentane\", \"pre_count\": 135.0, \"post_count\": 41.0, \"matched_count\": 22.0, \"process_time\": 0.4, \"count_ratios\": -69.62962962962963, \"count_error\": -7.864923747276691}, {\"wafer\": \"w95\", \"polymer\": \"PVC\", \"treatment\": \"H2O2\", \"pre_count\": 75.0, \"post_count\": 209.0, \"matched_count\": 42.0, \"process_time\": 3.3, \"count_ratios\": 178.66666666666666, \"count_error\": 228.66666666666666}, {\"wafer\": \"w100\", \"polymer\": \"PVC\", \"treatment\": \"KOH\", \"pre_count\": 157.0, \"post_count\": 25.0, \"matched_count\": 17.0, \"process_time\": 6.6, \"count_ratios\": -84.07643312101911, \"count_error\": -34.07643312101911}, {\"wafer\": \"w44\", \"polymer\": \"PVC\", \"treatment\": \"SPT\", \"pre_count\": 70.0, \"post_count\": 134.0, \"matched_count\": 51.0, \"process_time\": 19.4, \"count_ratios\": 91.42857142857143, \"count_error\": 141.42857142857144}, {\"wafer\": \"w99\", \"polymer\": \"PVC\", \"treatment\": \"pentane\", \"pre_count\": 183.0, \"post_count\": 168.0, \"matched_count\": 128.0, \"process_time\": 21.8, \"count_ratios\": -8.196721311475407, \"count_error\": 41.80327868852459}, {\"wafer\": \"w58\", \"polymer\": \"TPU\", \"treatment\": \"H2O2\", \"pre_count\": 21.0, \"post_count\": 36.0, \"matched_count\": 19.0, \"process_time\": 0.8, \"count_ratios\": 71.42857142857142, \"count_error\": 80.95238095238093}, {\"wafer\": \"w59\", \"polymer\": \"TPU\", \"treatment\": \"KOH\", \"pre_count\": 23.0, \"post_count\": 37.0, \"matched_count\": 19.0, \"process_time\": 0.8, \"count_ratios\": 60.86956521739131, \"count_error\": 70.39337474120083}, {\"wafer\": \"w60\", \"polymer\": \"TPU\", \"treatment\": \"SPT\", \"pre_count\": 38.0, \"post_count\": 41.0, \"matched_count\": 32.0, \"process_time\": 2.9, \"count_ratios\": 7.8947368421052655, \"count_error\": 17.41854636591479}, {\"wafer\": \"w61\", \"polymer\": \"TPU\", \"treatment\": \"pentane\", \"pre_count\": 108.0, \"post_count\": 89.0, \"matched_count\": 80.0, \"process_time\": 7.8, \"count_ratios\": -17.59259259259259, \"count_error\": -8.068783068783068}]}}, {\"mode\": \"vega-lite\"});\n",
       "</script>"
      ],
      "text/plain": [
       "alt.Chart(...)"
      ]
     },
     "execution_count": 6,
     "metadata": {},
     "output_type": "execute_result"
    }
   ],
   "source": [
    "# useful for radio buttons: https://stackoverflow.com/questions/59025953/on-an-altair-plot-can-you-change-the-location-that-a-selection-e-g-dropdown\n",
    "# interactive heatmap: https://towardsdatascience.com/altair-plot-deconstruction-visualizing-the-correlation-structure-of-weather-data-38fb5668c5b1\n",
    "\n",
    "alt.Chart(wafer_results_wrangled).mark_rect().encode(\n",
    "    x='treatment:N',\n",
    "    y='polymer:N',\n",
    "    color='count_error:Q'\n",
    ")"
   ]
  },
  {
   "cell_type": "code",
   "execution_count": null,
   "metadata": {},
   "outputs": [],
   "source": []
  }
 ],
 "metadata": {
  "kernelspec": {
   "display_name": "Python 3",
   "language": "python",
   "name": "python3"
  },
  "language_info": {
   "codemirror_mode": {
    "name": "ipython",
    "version": 3
   },
   "file_extension": ".py",
   "mimetype": "text/x-python",
   "name": "python",
   "nbconvert_exporter": "python",
   "pygments_lexer": "ipython3",
   "version": "3.8.6"
  }
 },
 "nbformat": 4,
 "nbformat_minor": 4
}
